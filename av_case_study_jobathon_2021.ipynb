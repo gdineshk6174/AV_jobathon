{
 "cells": [
  {
   "cell_type": "code",
   "execution_count": 71,
   "id": "02e77739",
   "metadata": {},
   "outputs": [],
   "source": [
    "# i have tried the preprocessing and EDA from fast.ai (https://github.com/fastai/fastbook/blob/master/09_tabular.ipynb)\n",
    "# i'm new to this (submission)and i haven't cleaned the notebook , but i know what i have done please check my \n",
    "# github (https://github.com/gdineshk6174)..\n"
   ]
  },
  {
   "cell_type": "code",
   "execution_count": 2,
   "id": "0f31d2d7",
   "metadata": {},
   "outputs": [],
   "source": [
    "#hide\n",
    "!pip install -Uqq fastbook kaggle waterfallcharts treeinterpreter dtreeviz\n",
    "import fastbook\n",
    "fastbook.setup_book()"
   ]
  },
  {
   "cell_type": "code",
   "execution_count": 3,
   "id": "97962629",
   "metadata": {},
   "outputs": [
    {
     "name": "stderr",
     "output_type": "stream",
     "text": [
      "\n",
      "Usage:   \n",
      "  pip install [options] <requirement specifier> [package-index-options] ...\n",
      "  pip install [options] -r <requirements file> [package-index-options] ...\n",
      "  pip install [options] [-e] <vcs project url> ...\n",
      "  pip install [options] [-e] <local project path> ...\n",
      "  pip install [options] <archive url/path> ...\n",
      "\n",
      "no such option: --quite\n"
     ]
    }
   ],
   "source": [
    "!pip install numpy pandas matplotlib.pyplot seaborn  --upgrade --quite"
   ]
  },
  {
   "cell_type": "code",
   "execution_count": 4,
   "id": "1cbb817f",
   "metadata": {},
   "outputs": [],
   "source": [
    "from fastbook import *\n",
    "from pandas.api.types import is_string_dtype, is_numeric_dtype, is_categorical_dtype\n",
    "from fastai.tabular.all import *\n",
    "from sklearn.ensemble import RandomForestRegressor\n",
    "from sklearn.tree import DecisionTreeRegressor\n",
    "from dtreeviz.trees import *\n",
    "from IPython.display import Image, display_svg, SVG\n",
    "\n",
    "pd.options.display.max_rows = 20\n",
    "pd.options.display.max_columns = 25"
   ]
  },
  {
   "cell_type": "code",
   "execution_count": 5,
   "id": "6ed436d3",
   "metadata": {},
   "outputs": [],
   "source": [
    "from sklearn.metrics import mean_squared_log_error"
   ]
  },
  {
   "cell_type": "code",
   "execution_count": 6,
   "id": "07aa019b",
   "metadata": {},
   "outputs": [],
   "source": [
    "!pip install xgboost lightgbm --upgrade --quiet"
   ]
  },
  {
   "cell_type": "code",
   "execution_count": 8,
   "id": "a23de088",
   "metadata": {},
   "outputs": [],
   "source": [
    "df = pd.read_csv('./TRAIN.csv', low_memory=False)"
   ]
  },
  {
   "cell_type": "markdown",
   "id": "4e380b95",
   "metadata": {},
   "source": [
    "#### removing \"#Order\" feature "
   ]
  },
  {
   "cell_type": "code",
   "execution_count": 9,
   "id": "a3d03527",
   "metadata": {},
   "outputs": [],
   "source": [
    "df.drop('#Order', inplace=True, axis=1)"
   ]
  },
  {
   "cell_type": "markdown",
   "id": "b846c4e6",
   "metadata": {},
   "source": [
    "#### removing data records with Sales == 0 , as there were only 19 records it wont affect the data"
   ]
  },
  {
   "cell_type": "code",
   "execution_count": 10,
   "id": "41af5585",
   "metadata": {},
   "outputs": [],
   "source": [
    "df = df[df.Sales != 0]"
   ]
  },
  {
   "cell_type": "code",
   "execution_count": 11,
   "id": "c4a3fbe9",
   "metadata": {
    "scrolled": true
   },
   "outputs": [
    {
     "data": {
      "text/html": [
       "<div>\n",
       "<style scoped>\n",
       "    .dataframe tbody tr th:only-of-type {\n",
       "        vertical-align: middle;\n",
       "    }\n",
       "\n",
       "    .dataframe tbody tr th {\n",
       "        vertical-align: top;\n",
       "    }\n",
       "\n",
       "    .dataframe thead th {\n",
       "        text-align: right;\n",
       "    }\n",
       "</style>\n",
       "<table border=\"1\" class=\"dataframe\">\n",
       "  <thead>\n",
       "    <tr style=\"text-align: right;\">\n",
       "      <th></th>\n",
       "      <th>ID</th>\n",
       "      <th>Store_id</th>\n",
       "      <th>Store_Type</th>\n",
       "      <th>Location_Type</th>\n",
       "      <th>Region_Code</th>\n",
       "      <th>Date</th>\n",
       "      <th>Holiday</th>\n",
       "      <th>Discount</th>\n",
       "      <th>Sales</th>\n",
       "    </tr>\n",
       "  </thead>\n",
       "  <tbody>\n",
       "    <tr>\n",
       "      <th>0</th>\n",
       "      <td>T1000001</td>\n",
       "      <td>1</td>\n",
       "      <td>S1</td>\n",
       "      <td>L3</td>\n",
       "      <td>R1</td>\n",
       "      <td>2018-01-01</td>\n",
       "      <td>1</td>\n",
       "      <td>Yes</td>\n",
       "      <td>7011.84</td>\n",
       "    </tr>\n",
       "    <tr>\n",
       "      <th>1</th>\n",
       "      <td>T1000002</td>\n",
       "      <td>253</td>\n",
       "      <td>S4</td>\n",
       "      <td>L2</td>\n",
       "      <td>R1</td>\n",
       "      <td>2018-01-01</td>\n",
       "      <td>1</td>\n",
       "      <td>Yes</td>\n",
       "      <td>51789.12</td>\n",
       "    </tr>\n",
       "    <tr>\n",
       "      <th>2</th>\n",
       "      <td>T1000003</td>\n",
       "      <td>252</td>\n",
       "      <td>S3</td>\n",
       "      <td>L2</td>\n",
       "      <td>R1</td>\n",
       "      <td>2018-01-01</td>\n",
       "      <td>1</td>\n",
       "      <td>Yes</td>\n",
       "      <td>36868.20</td>\n",
       "    </tr>\n",
       "    <tr>\n",
       "      <th>3</th>\n",
       "      <td>T1000004</td>\n",
       "      <td>251</td>\n",
       "      <td>S2</td>\n",
       "      <td>L3</td>\n",
       "      <td>R1</td>\n",
       "      <td>2018-01-01</td>\n",
       "      <td>1</td>\n",
       "      <td>Yes</td>\n",
       "      <td>19715.16</td>\n",
       "    </tr>\n",
       "    <tr>\n",
       "      <th>4</th>\n",
       "      <td>T1000005</td>\n",
       "      <td>250</td>\n",
       "      <td>S2</td>\n",
       "      <td>L3</td>\n",
       "      <td>R4</td>\n",
       "      <td>2018-01-01</td>\n",
       "      <td>1</td>\n",
       "      <td>Yes</td>\n",
       "      <td>45614.52</td>\n",
       "    </tr>\n",
       "  </tbody>\n",
       "</table>\n",
       "</div>"
      ],
      "text/plain": [
       "         ID  Store_id Store_Type Location_Type Region_Code        Date  \\\n",
       "0  T1000001         1         S1            L3          R1  2018-01-01   \n",
       "1  T1000002       253         S4            L2          R1  2018-01-01   \n",
       "2  T1000003       252         S3            L2          R1  2018-01-01   \n",
       "3  T1000004       251         S2            L3          R1  2018-01-01   \n",
       "4  T1000005       250         S2            L3          R4  2018-01-01   \n",
       "\n",
       "   Holiday Discount     Sales  \n",
       "0        1      Yes   7011.84  \n",
       "1        1      Yes  51789.12  \n",
       "2        1      Yes  36868.20  \n",
       "3        1      Yes  19715.16  \n",
       "4        1      Yes  45614.52  "
      ]
     },
     "execution_count": 11,
     "metadata": {},
     "output_type": "execute_result"
    }
   ],
   "source": [
    "df.head()"
   ]
  },
  {
   "cell_type": "markdown",
   "id": "e0bb12fc",
   "metadata": {},
   "source": [
    "#### defining dependent variable"
   ]
  },
  {
   "cell_type": "code",
   "execution_count": 12,
   "id": "e5e2b82d",
   "metadata": {},
   "outputs": [],
   "source": [
    "dep_var = \"Sales\""
   ]
  },
  {
   "cell_type": "code",
   "execution_count": 13,
   "id": "677d8d52",
   "metadata": {},
   "outputs": [
    {
     "data": {
      "text/plain": [
       "Index(['ID', 'Store_id', 'Store_Type', 'Location_Type', 'Region_Code', 'Date',\n",
       "       'Holiday', 'Discount', 'Sales'],\n",
       "      dtype='object')"
      ]
     },
     "execution_count": 13,
     "metadata": {},
     "output_type": "execute_result"
    }
   ],
   "source": [
    "df.columns"
   ]
  },
  {
   "cell_type": "markdown",
   "id": "fa354ce1",
   "metadata": {},
   "source": [
    "#### add_datepart() which is a helper function ,it takes Dataframe and Date feature as input and creates  features from it like [“'Year', 'Month', 'Week', 'Day','Dayofweek', 'Dayofyear', etc"
   ]
  },
  {
   "cell_type": "code",
   "execution_count": 14,
   "id": "14bf64a3",
   "metadata": {},
   "outputs": [],
   "source": [
    "df = add_datepart(df, 'Date')"
   ]
  },
  {
   "cell_type": "code",
   "execution_count": 15,
   "id": "b448364c",
   "metadata": {},
   "outputs": [],
   "source": [
    "#handling date for test data\n",
    "df_test = pd.read_csv('./TEST_FINAL.csv', low_memory=False)\n",
    "df_test = add_datepart(df_test, 'Date')"
   ]
  },
  {
   "cell_type": "markdown",
   "id": "e2392ea7",
   "metadata": {},
   "source": [
    "## Preprocessing"
   ]
  },
  {
   "cell_type": "markdown",
   "id": "fd917efc",
   "metadata": {},
   "source": [
    "#### procs is list of preparatory processing techniques needed to transform the data"
   ]
  },
  {
   "cell_type": "markdown",
   "id": "2b37c64f",
   "metadata": {},
   "source": [
    "#### Categorify : replaces categorical columns with a numeric categorical column\n",
    "#### FillMissing : replaces missing values with median of the column and creates additional column which boolean in nature , where True is missing value and False is the opposite\n"
   ]
  },
  {
   "cell_type": "code",
   "execution_count": 16,
   "id": "3af0d761",
   "metadata": {},
   "outputs": [],
   "source": [
    "procs = [Categorify , FillMissing]"
   ]
  },
  {
   "cell_type": "markdown",
   "id": "5ce0a0bf",
   "metadata": {},
   "source": [
    "#### splits : splits the data into training and validation , it should contain two lists with indexes of the data in them   \n",
    "#### since this is a time series data we need to split train and validation bases on the timeframe chronologically. \n",
    "#### I have split the data such that the validation data resembles the test data meaning the have taken last two months of the traning data to be validation data.\n"
   ]
  },
  {
   "cell_type": "code",
   "execution_count": 17,
   "id": "861fe7db",
   "metadata": {},
   "outputs": [],
   "source": [
    "cond = (df.Year<2019) | (df.Month<4)\n",
    "train_idx = np.where( cond)[0]\n",
    "valid_idx = np.where(~cond)[0]\n",
    "\n",
    "splits = (list(train_idx),list(valid_idx))"
   ]
  },
  {
   "cell_type": "markdown",
   "id": "3c94002a",
   "metadata": {},
   "source": [
    "#### Cat is a list of feature names which are categorical in nature which is almost all of them in this case execpt “Elapsed”\n",
    "#### Cont is a list of continuous feature in this case “Elapsed”\n"
   ]
  },
  {
   "cell_type": "code",
   "execution_count": 18,
   "id": "6772c89b",
   "metadata": {},
   "outputs": [],
   "source": [
    "cont = ['Elapsed']\n",
    "cat =['Store_id','Holiday','Year','Month','Week','Day','Dayofweek','Dayofyear','Store_Type',\n",
    "  'Location_Type','Region_Code','Discount','Is_month_end','Is_month_start','Is_quarter_end',\n",
    "  'Is_quarter_start','Is_year_end','Is_year_start']"
   ]
  },
  {
   "cell_type": "markdown",
   "id": "41df778f",
   "metadata": {},
   "source": [
    "#### TabluarPandas behaves like dataset objects which provides trian and valid attributes"
   ]
  },
  {
   "cell_type": "code",
   "execution_count": 19,
   "id": "5d34ea4e",
   "metadata": {},
   "outputs": [],
   "source": [
    "to = TabularPandas(df, procs, cat, cont, y_names=dep_var, splits=splits)"
   ]
  },
  {
   "cell_type": "code",
   "execution_count": 20,
   "id": "68ae1e7c",
   "metadata": {},
   "outputs": [
    {
     "data": {
      "text/plain": [
       "(166060, 22261)"
      ]
     },
     "execution_count": 20,
     "metadata": {},
     "output_type": "execute_result"
    }
   ],
   "source": [
    "len(to.train),len(to.valid)"
   ]
  },
  {
   "cell_type": "code",
   "execution_count": 21,
   "id": "6a113bce",
   "metadata": {},
   "outputs": [],
   "source": [
    "xs,y = to.train.xs,to.train.y\n",
    "valid_xs,valid_y = to.valid.xs,to.valid.y"
   ]
  },
  {
   "cell_type": "code",
   "execution_count": 38,
   "id": "891eda44",
   "metadata": {},
   "outputs": [
    {
     "name": "stdout",
     "output_type": "stream",
     "text": [
      "The MSLE loss for the training set is  0.025640391184805697.\n",
      "The MSLE loss for the validation set is  0.127758110657176.\n"
     ]
    }
   ],
   "source": [
    "# randomforest from sklearn and the parameter values are from example casestudyies online\n",
    "\n",
    "rf1 = RandomForestRegressor(n_jobs=-1, n_estimators=40, max_features=0.5,\n",
    "        min_samples_leaf=5, oob_score=True,random_state=42)\n",
    "\n",
    "# Fit the model\n",
    "rf1.fit(xs, y)\n",
    "\n",
    "rf1_train_preds = rf1.predict(xs)\n",
    "\n",
    "# Compute MSLE on traing data\n",
    "rf1_train_msle = mean_squared_log_error(y, rf1_train_preds)\n",
    "print('The MSLE loss for the training set is  {}.'.format(rf1_train_msle))\n",
    "\n",
    "rf1_val_preds = rf1.predict(valid_xs)\n",
    "\n",
    "# Compute MSLE on validation data\n",
    "rf1_val_msle = mean_squared_log_error(valid_y, rf1_val_preds)\n",
    "print('The MSLE loss for the validation set is  {}.'.format(rf1_val_msle))"
   ]
  },
  {
   "cell_type": "code",
   "execution_count": null,
   "id": "9cdaccb9",
   "metadata": {},
   "outputs": [],
   "source": []
  },
  {
   "cell_type": "code",
   "execution_count": 39,
   "id": "a246987e",
   "metadata": {},
   "outputs": [],
   "source": [
    "def rf_feat_importance(rf1, df):\n",
    "    return pd.DataFrame({'cols':df.columns, 'imp':rf1.feature_importances_}\n",
    "                       ).sort_values('imp', ascending=False)"
   ]
  },
  {
   "cell_type": "code",
   "execution_count": 40,
   "id": "5cedab22",
   "metadata": {},
   "outputs": [
    {
     "data": {
      "text/html": [
       "<div>\n",
       "<style scoped>\n",
       "    .dataframe tbody tr th:only-of-type {\n",
       "        vertical-align: middle;\n",
       "    }\n",
       "\n",
       "    .dataframe tbody tr th {\n",
       "        vertical-align: top;\n",
       "    }\n",
       "\n",
       "    .dataframe thead th {\n",
       "        text-align: right;\n",
       "    }\n",
       "</style>\n",
       "<table border=\"1\" class=\"dataframe\">\n",
       "  <thead>\n",
       "    <tr style=\"text-align: right;\">\n",
       "      <th></th>\n",
       "      <th>cols</th>\n",
       "      <th>imp</th>\n",
       "    </tr>\n",
       "  </thead>\n",
       "  <tbody>\n",
       "    <tr>\n",
       "      <th>8</th>\n",
       "      <td>Store_Type</td>\n",
       "      <td>0.312872</td>\n",
       "    </tr>\n",
       "    <tr>\n",
       "      <th>9</th>\n",
       "      <td>Location_Type</td>\n",
       "      <td>0.182902</td>\n",
       "    </tr>\n",
       "    <tr>\n",
       "      <th>11</th>\n",
       "      <td>Discount</td>\n",
       "      <td>0.130789</td>\n",
       "    </tr>\n",
       "    <tr>\n",
       "      <th>0</th>\n",
       "      <td>Store_id</td>\n",
       "      <td>0.084702</td>\n",
       "    </tr>\n",
       "    <tr>\n",
       "      <th>6</th>\n",
       "      <td>Dayofweek</td>\n",
       "      <td>0.065359</td>\n",
       "    </tr>\n",
       "    <tr>\n",
       "      <th>7</th>\n",
       "      <td>Dayofyear</td>\n",
       "      <td>0.048018</td>\n",
       "    </tr>\n",
       "    <tr>\n",
       "      <th>18</th>\n",
       "      <td>Elapsed</td>\n",
       "      <td>0.042679</td>\n",
       "    </tr>\n",
       "    <tr>\n",
       "      <th>1</th>\n",
       "      <td>Holiday</td>\n",
       "      <td>0.036516</td>\n",
       "    </tr>\n",
       "    <tr>\n",
       "      <th>5</th>\n",
       "      <td>Day</td>\n",
       "      <td>0.031584</td>\n",
       "    </tr>\n",
       "    <tr>\n",
       "      <th>4</th>\n",
       "      <td>Week</td>\n",
       "      <td>0.026465</td>\n",
       "    </tr>\n",
       "    <tr>\n",
       "      <th>10</th>\n",
       "      <td>Region_Code</td>\n",
       "      <td>0.018833</td>\n",
       "    </tr>\n",
       "    <tr>\n",
       "      <th>3</th>\n",
       "      <td>Month</td>\n",
       "      <td>0.009298</td>\n",
       "    </tr>\n",
       "    <tr>\n",
       "      <th>15</th>\n",
       "      <td>Is_quarter_start</td>\n",
       "      <td>0.004049</td>\n",
       "    </tr>\n",
       "    <tr>\n",
       "      <th>2</th>\n",
       "      <td>Year</td>\n",
       "      <td>0.001804</td>\n",
       "    </tr>\n",
       "    <tr>\n",
       "      <th>13</th>\n",
       "      <td>Is_month_start</td>\n",
       "      <td>0.001425</td>\n",
       "    </tr>\n",
       "    <tr>\n",
       "      <th>14</th>\n",
       "      <td>Is_quarter_end</td>\n",
       "      <td>0.001276</td>\n",
       "    </tr>\n",
       "    <tr>\n",
       "      <th>12</th>\n",
       "      <td>Is_month_end</td>\n",
       "      <td>0.001161</td>\n",
       "    </tr>\n",
       "    <tr>\n",
       "      <th>17</th>\n",
       "      <td>Is_year_start</td>\n",
       "      <td>0.000251</td>\n",
       "    </tr>\n",
       "    <tr>\n",
       "      <th>16</th>\n",
       "      <td>Is_year_end</td>\n",
       "      <td>0.000015</td>\n",
       "    </tr>\n",
       "  </tbody>\n",
       "</table>\n",
       "</div>"
      ],
      "text/plain": [
       "                cols       imp\n",
       "8         Store_Type  0.312872\n",
       "9      Location_Type  0.182902\n",
       "11          Discount  0.130789\n",
       "0           Store_id  0.084702\n",
       "6          Dayofweek  0.065359\n",
       "7          Dayofyear  0.048018\n",
       "18           Elapsed  0.042679\n",
       "1            Holiday  0.036516\n",
       "5                Day  0.031584\n",
       "4               Week  0.026465\n",
       "10       Region_Code  0.018833\n",
       "3              Month  0.009298\n",
       "15  Is_quarter_start  0.004049\n",
       "2               Year  0.001804\n",
       "13    Is_month_start  0.001425\n",
       "14    Is_quarter_end  0.001276\n",
       "12      Is_month_end  0.001161\n",
       "17     Is_year_start  0.000251\n",
       "16       Is_year_end  0.000015"
      ]
     },
     "execution_count": 40,
     "metadata": {},
     "output_type": "execute_result"
    }
   ],
   "source": [
    "fi = rf_feat_importance(rf1, xs)\n",
    "fi[:]"
   ]
  },
  {
   "cell_type": "code",
   "execution_count": 41,
   "id": "2524ecf3",
   "metadata": {},
   "outputs": [
    {
     "data": {
      "image/png": "[encoded data removed]",
      "text/plain": [
       "<Figure size 864x504 with 1 Axes>"
      ]
     },
     "metadata": {
      "needs_background": "light"
     },
     "output_type": "display_data"
    }
   ],
   "source": [
    "def plot_fi(fi):\n",
    "    return fi.plot('cols', 'imp', 'barh', figsize=(12,7), legend=False)\n",
    "\n",
    "plot_fi(fi[:]);"
   ]
  },
  {
   "cell_type": "markdown",
   "id": "c7572631",
   "metadata": {},
   "source": [
    "#### removing features "
   ]
  },
  {
   "cell_type": "code",
   "execution_count": 42,
   "id": "aefd189d",
   "metadata": {},
   "outputs": [
    {
     "data": {
      "text/plain": [
       "12"
      ]
     },
     "execution_count": 42,
     "metadata": {},
     "output_type": "execute_result"
    }
   ],
   "source": [
    "to_keep = fi[fi.imp>0.005].cols\n",
    "len(to_keep)"
   ]
  },
  {
   "cell_type": "code",
   "execution_count": 43,
   "id": "808fdb0f",
   "metadata": {},
   "outputs": [],
   "source": [
    "xs_imp = xs[to_keep]\n",
    "valid_xs_imp = valid_xs[to_keep]"
   ]
  },
  {
   "cell_type": "markdown",
   "id": "a9334b1f",
   "metadata": {},
   "source": [
    "### Remove redundant features \n",
    "#### Cluster_columns(xs_imp) gives a chart which shows which pairs of features are most similar which are the ones that merged together far from the “root” of the tree at the left .\n",
    "#### We drop one feature from the pair\n"
   ]
  },
  {
   "cell_type": "code",
   "execution_count": 44,
   "id": "e3e9360b",
   "metadata": {},
   "outputs": [
    {
     "data": {
      "image/png": "[encoded data removed]",
      "text/plain": [
       "<Figure size 720x432 with 1 Axes>"
      ]
     },
     "metadata": {
      "needs_background": "light"
     },
     "output_type": "display_data"
    }
   ],
   "source": [
    "cluster_columns(xs_imp)"
   ]
  },
  {
   "cell_type": "markdown",
   "id": "61e4320b",
   "metadata": {},
   "source": [
    "#### droping \"Month\" as it is very similar to \"Dayofyear\""
   ]
  },
  {
   "cell_type": "code",
   "execution_count": 45,
   "id": "7f00b21b",
   "metadata": {},
   "outputs": [],
   "source": [
    "to_drop = ['Month']"
   ]
  },
  {
   "cell_type": "code",
   "execution_count": 46,
   "id": "aea022af",
   "metadata": {},
   "outputs": [],
   "source": [
    "xs_final = xs_imp.drop(to_drop, axis=1)\n",
    "valid_xs_final = valid_xs_imp.drop(to_drop, axis=1)"
   ]
  },
  {
   "cell_type": "markdown",
   "id": "e29c74c6",
   "metadata": {},
   "source": [
    "### Finding Out of domain data: we don’t know whether test set is distributed the same way as training data or not and also which features reflect the difference "
   ]
  },
  {
   "cell_type": "markdown",
   "id": "f45904ce",
   "metadata": {},
   "source": [
    "#### inorder to do so we combine only independent variables from train and validation datasets and create a new dependent variable with 0 and 1  , where if the data is from training data and 1 if the data us from validation data "
   ]
  },
  {
   "cell_type": "code",
   "execution_count": 47,
   "id": "bfc70dce",
   "metadata": {},
   "outputs": [],
   "source": [
    "df_dom = pd.concat([xs_final, valid_xs_final])\n",
    "is_valid = np.array([0]*len(xs_final) + [1]*len(valid_xs_final))"
   ]
  },
  {
   "cell_type": "code",
   "execution_count": 50,
   "id": "a1126257",
   "metadata": {},
   "outputs": [
    {
     "data": {
      "text/html": [
       "<div>\n",
       "<style scoped>\n",
       "    .dataframe tbody tr th:only-of-type {\n",
       "        vertical-align: middle;\n",
       "    }\n",
       "\n",
       "    .dataframe tbody tr th {\n",
       "        vertical-align: top;\n",
       "    }\n",
       "\n",
       "    .dataframe thead th {\n",
       "        text-align: right;\n",
       "    }\n",
       "</style>\n",
       "<table border=\"1\" class=\"dataframe\">\n",
       "  <thead>\n",
       "    <tr style=\"text-align: right;\">\n",
       "      <th></th>\n",
       "      <th>cols</th>\n",
       "      <th>imp</th>\n",
       "    </tr>\n",
       "  </thead>\n",
       "  <tbody>\n",
       "    <tr>\n",
       "      <th>6</th>\n",
       "      <td>Elapsed</td>\n",
       "      <td>0.899580</td>\n",
       "    </tr>\n",
       "    <tr>\n",
       "      <th>9</th>\n",
       "      <td>Week</td>\n",
       "      <td>0.075788</td>\n",
       "    </tr>\n",
       "    <tr>\n",
       "      <th>5</th>\n",
       "      <td>Dayofyear</td>\n",
       "      <td>0.023784</td>\n",
       "    </tr>\n",
       "    <tr>\n",
       "      <th>4</th>\n",
       "      <td>Dayofweek</td>\n",
       "      <td>0.000401</td>\n",
       "    </tr>\n",
       "    <tr>\n",
       "      <th>8</th>\n",
       "      <td>Day</td>\n",
       "      <td>0.000283</td>\n",
       "    </tr>\n",
       "    <tr>\n",
       "      <th>7</th>\n",
       "      <td>Holiday</td>\n",
       "      <td>0.000164</td>\n",
       "    </tr>\n",
       "    <tr>\n",
       "      <th>0</th>\n",
       "      <td>Store_Type</td>\n",
       "      <td>0.000000</td>\n",
       "    </tr>\n",
       "    <tr>\n",
       "      <th>1</th>\n",
       "      <td>Location_Type</td>\n",
       "      <td>0.000000</td>\n",
       "    </tr>\n",
       "    <tr>\n",
       "      <th>2</th>\n",
       "      <td>Discount</td>\n",
       "      <td>0.000000</td>\n",
       "    </tr>\n",
       "    <tr>\n",
       "      <th>3</th>\n",
       "      <td>Store_id</td>\n",
       "      <td>0.000000</td>\n",
       "    </tr>\n",
       "    <tr>\n",
       "      <th>10</th>\n",
       "      <td>Region_Code</td>\n",
       "      <td>0.000000</td>\n",
       "    </tr>\n",
       "  </tbody>\n",
       "</table>\n",
       "</div>"
      ],
      "text/plain": [
       "             cols       imp\n",
       "6         Elapsed  0.899580\n",
       "9            Week  0.075788\n",
       "5       Dayofyear  0.023784\n",
       "4       Dayofweek  0.000401\n",
       "8             Day  0.000283\n",
       "7         Holiday  0.000164\n",
       "0      Store_Type  0.000000\n",
       "1   Location_Type  0.000000\n",
       "2        Discount  0.000000\n",
       "3        Store_id  0.000000\n",
       "10    Region_Code  0.000000"
      ]
     },
     "execution_count": 50,
     "metadata": {},
     "output_type": "execute_result"
    }
   ],
   "source": [
    "\n",
    "rf1.fit(df_dom, is_valid)\n",
    "rf_feat_importance(rf1, df_dom)"
   ]
  },
  {
   "cell_type": "markdown",
   "id": "309999cd",
   "metadata": {},
   "source": [
    "#### o\tNext use random forest train and calculate feature importance and select feature which have high values , which means the features with high values indicate they differ significantly with training and validation data ,in this case “Elapsed” ,“Week” and “Dayofyear”."
   ]
  },
  {
   "cell_type": "code",
   "execution_count": 53,
   "id": "62f48409",
   "metadata": {},
   "outputs": [
    {
     "name": "stdout",
     "output_type": "stream",
     "text": [
      "orig 137.9308831849982\n",
      "Elapsed 82.03725376638086\n",
      "Week 137.16455636460515\n",
      "Dayofyear 139.12236620331524\n"
     ]
    }
   ],
   "source": [
    "rf1.fit(xs_final, y)\n",
    "print('orig', mean_squared_log_error(valid_y, rf1.predict(valid_xs_final))*1000)\n",
    "\n",
    "for c in ('Elapsed','Week','Dayofyear'):\n",
    "    rf1.fit(xs_final.drop(c,axis=1), y)\n",
    "    print(c, mean_squared_log_error(valid_y, rf1.predict(valid_xs_final.drop(c,axis = 1)))*1000)"
   ]
  },
  {
   "cell_type": "markdown",
   "id": "1d5c0b57",
   "metadata": {},
   "source": [
    "#### Now we compare the MSLE score by dropping one feature at a time among the 3 with the original score\n",
    "#### When “Elapsed” was removed the MSLE score was 82.03 , similarly for “Week”  was 137.16 and “Dayofyear” was 139.12. so it is ideal to remove two features among them to get better MSLE score , I have chosen “Elapsed” as it gives lowest score and “Dayofyear” becoz there isn’t much difference between “Dayofyear” and “Week” (look at the cluster chart)and also I felt the pattern with “Week” feature would be much better.\n"
   ]
  },
  {
   "cell_type": "code",
   "execution_count": 61,
   "id": "084dc609",
   "metadata": {},
   "outputs": [],
   "source": [
    "time_vars = ['Elapsed', 'Dayofyear']"
   ]
  },
  {
   "cell_type": "markdown",
   "id": "ac56af2d",
   "metadata": {},
   "source": [
    "#### Next I droped the time variables “Elapsed” and “Dayofyear” from traiing and validation sets"
   ]
  },
  {
   "cell_type": "code",
   "execution_count": 62,
   "id": "e0609bc8",
   "metadata": {},
   "outputs": [],
   "source": [
    "xs_final_time = xs_final.drop(time_vars, axis=1)\n",
    "valid_xs_time = valid_xs_final.drop(time_vars, axis=1)"
   ]
  },
  {
   "cell_type": "markdown",
   "id": "e006e6f3",
   "metadata": {},
   "source": [
    "### Random forest parameter values\n",
    "#### One of the important properties of random forest is that they aren’t very sensitive to the hyperparameters choices such as max_features.\n",
    "#### So what I did was create a range of values for each hyperparameter and fir the model with one parameter at a time and observe its impact on the train and validation msle values.\n",
    "#### And then i selected hypermeter values which has low validation msle score.\n",
    "#### Although it necessarily doesn’t mean that by selecting all the parameter values with low msle score gives the best MSLE score with put together but since we are using  Randomforest , as said earlier, randomforest isn’t that sensitive to parameter tuning but if  had I used any other algorithm I would use GridSeachCV from sklearn to find the optimal values for the hyperparameters.\n"
   ]
  },
  {
   "cell_type": "code",
   "execution_count": 65,
   "id": "596ab117",
   "metadata": {},
   "outputs": [],
   "source": [
    "def test_params(**params):  \n",
    "    model = RandomForestRegressor(random_state=42, n_jobs=-1, **params).fit(xs_final_time, y)\n",
    "    train_msle = mean_squared_log_error(y, model.predict(xs_final_time))\n",
    "    val_msle = mean_squared_log_error(valid_y, model.predict(valid_xs_time))\n",
    "    return train_msle, val_msle"
   ]
  },
  {
   "cell_type": "code",
   "execution_count": 66,
   "id": "926504aa",
   "metadata": {},
   "outputs": [],
   "source": [
    "def test_param_and_plot(param_name, param_values):\n",
    "    train_errors, val_errors = [], [] \n",
    "    for value in param_values:\n",
    "        params = {param_name: value}\n",
    "        train_msle, val_msle = test_params(**params)\n",
    "        train_errors.append(train_msle)\n",
    "        val_errors.append(val_msle)\n",
    "    plt.figure(figsize=(16,8))\n",
    "    plt.title('Overfitting curve: ' + param_name)\n",
    "    plt.plot(param_values, train_errors, 'b-o')\n",
    "    plt.plot(param_values, val_errors, 'r-o')\n",
    "    plt.xlabel(param_name)\n",
    "    plt.ylabel('MSLE')\n",
    "    plt.legend(['Training', 'Validation'])"
   ]
  },
  {
   "cell_type": "code",
   "execution_count": 67,
   "id": "837bda78",
   "metadata": {},
   "outputs": [
    {
     "data": {
      "image/png": "[encoded data removed]",
      "text/plain": [
       "<Figure size 1152x576 with 1 Axes>"
      ]
     },
     "metadata": {
      "needs_background": "light"
     },
     "output_type": "display_data"
    }
   ],
   "source": [
    "test_param_and_plot('max_depth', [5, 10, 15, 20, 25, 30, 35])"
   ]
  },
  {
   "cell_type": "code",
   "execution_count": 68,
   "id": "80812d33",
   "metadata": {},
   "outputs": [
    {
     "data": {
      "image/png": "[encoded data removed]",
      "text/plain": [
       "<Figure size 1152x576 with 1 Axes>"
      ]
     },
     "metadata": {
      "needs_background": "light"
     },
     "output_type": "display_data"
    }
   ],
   "source": [
    "test_param_and_plot('n_estimators', [10, 30, 50, 70, 90, 100])"
   ]
  },
  {
   "cell_type": "code",
   "execution_count": 69,
   "id": "e14a2fa1",
   "metadata": {},
   "outputs": [
    {
     "data": {
      "image/png": "[encoded data removed]",
      "text/plain": [
       "<Figure size 1152x576 with 1 Axes>"
      ]
     },
     "metadata": {
      "needs_background": "light"
     },
     "output_type": "display_data"
    }
   ],
   "source": [
    "test_param_and_plot('min_samples_split', [2, 3, 4, 5, 6, 7, 8, 9, 10])"
   ]
  },
  {
   "cell_type": "code",
   "execution_count": 70,
   "id": "e08cfe36",
   "metadata": {},
   "outputs": [
    {
     "data": {
      "image/png": "[encoded data removed]",
      "text/plain": [
       "<Figure size 1152x576 with 1 Axes>"
      ]
     },
     "metadata": {
      "needs_background": "light"
     },
     "output_type": "display_data"
    }
   ],
   "source": [
    "test_param_and_plot('min_samples_leaf', [1, 2, 3, 4, 5, 6, 7, 8, 9, 10])"
   ]
  },
  {
   "cell_type": "code",
   "execution_count": 71,
   "id": "1c771bcc",
   "metadata": {},
   "outputs": [
    {
     "data": {
      "image/png": "[encoded data removed]",
      "text/plain": [
       "<Figure size 1152x576 with 1 Axes>"
      ]
     },
     "metadata": {
      "needs_background": "light"
     },
     "output_type": "display_data"
    }
   ],
   "source": [
    "test_param_and_plot('max_samples', [0.2, 0.4, 0.6, 0.8, 1])"
   ]
  },
  {
   "cell_type": "code",
   "execution_count": 72,
   "id": "d49d12c3",
   "metadata": {},
   "outputs": [
    {
     "data": {
      "image/png": "[encoded data removed]",
      "text/plain": [
       "<Figure size 1152x576 with 1 Axes>"
      ]
     },
     "metadata": {
      "needs_background": "light"
     },
     "output_type": "display_data"
    }
   ],
   "source": [
    "test_param_and_plot('max_features', [2, 3, 4, 5, 6, 7])"
   ]
  },
  {
   "cell_type": "code",
   "execution_count": 75,
   "id": "4e773459",
   "metadata": {},
   "outputs": [
    {
     "name": "stdout",
     "output_type": "stream",
     "text": [
      "The MSLE loss for the training set is  0.034351386747291046.\n",
      "The MSLE loss for the validation set is  0.08857037362011123.\n"
     ]
    }
   ],
   "source": [
    "# Create the model\n",
    "rf1 = RandomForestRegressor(n_jobs=-1, max_depth=30, n_estimators=60, min_samples_split=8,\n",
    "                            min_samples_leaf=10, max_samples=0.8, max_features=6,  random_state=42)\n",
    "\n",
    "# Fit the model\n",
    "rf1.fit(xs_final_time, y)\n",
    "\n",
    "rf1_train_preds = rf1.predict(xs_final_time)\n",
    "\n",
    "# Compute MSLE on traing data\n",
    "rf1_train_msle = mean_squared_log_error(y, rf1_train_preds)\n",
    "print('The MSLE loss for the training set is  {}.'.format(rf1_train_msle))\n",
    "\n",
    "rf1_val_preds = rf1.predict(valid_xs_time)\n",
    "\n",
    "# Compute MSLE on validation data\n",
    "rf1_val_msle = mean_squared_log_error(valid_y, rf1_val_preds)\n",
    "print('The MSLE loss for the validation set is  {}.'.format(rf1_val_msle))\n"
   ]
  },
  {
   "cell_type": "markdown",
   "id": "9563311d",
   "metadata": {},
   "source": [
    "xs_final_time.shape"
   ]
  },
  {
   "cell_type": "markdown",
   "id": "c20ace01",
   "metadata": {},
   "source": [
    "#### Next we transform the test data similar to that of the training data by following the same steps and remove the features which are not required.\n",
    "#### Next we use the trained model to predict the “Sales” for the test data.\n"
   ]
  },
  {
   "cell_type": "code",
   "execution_count": 53,
   "id": "ab8b89e1",
   "metadata": {
    "scrolled": true
   },
   "outputs": [
    {
     "data": {
      "text/html": [
       "<div>\n",
       "<style scoped>\n",
       "    .dataframe tbody tr th:only-of-type {\n",
       "        vertical-align: middle;\n",
       "    }\n",
       "\n",
       "    .dataframe tbody tr th {\n",
       "        vertical-align: top;\n",
       "    }\n",
       "\n",
       "    .dataframe thead th {\n",
       "        text-align: right;\n",
       "    }\n",
       "</style>\n",
       "<table border=\"1\" class=\"dataframe\">\n",
       "  <thead>\n",
       "    <tr style=\"text-align: right;\">\n",
       "      <th></th>\n",
       "      <th>ID</th>\n",
       "      <th>Store_id</th>\n",
       "      <th>Store_Type</th>\n",
       "      <th>Location_Type</th>\n",
       "      <th>Region_Code</th>\n",
       "      <th>Holiday</th>\n",
       "      <th>Discount</th>\n",
       "      <th>Year</th>\n",
       "      <th>Month</th>\n",
       "      <th>Week</th>\n",
       "      <th>Day</th>\n",
       "      <th>Dayofweek</th>\n",
       "      <th>Dayofyear</th>\n",
       "      <th>Is_month_end</th>\n",
       "      <th>Is_month_start</th>\n",
       "      <th>Is_quarter_end</th>\n",
       "      <th>Is_quarter_start</th>\n",
       "      <th>Is_year_end</th>\n",
       "      <th>Is_year_start</th>\n",
       "      <th>Elapsed</th>\n",
       "    </tr>\n",
       "  </thead>\n",
       "  <tbody>\n",
       "    <tr>\n",
       "      <th>0</th>\n",
       "      <td>T1188341</td>\n",
       "      <td>171</td>\n",
       "      <td>S4</td>\n",
       "      <td>L2</td>\n",
       "      <td>R3</td>\n",
       "      <td>0</td>\n",
       "      <td>No</td>\n",
       "      <td>2019</td>\n",
       "      <td>6</td>\n",
       "      <td>22</td>\n",
       "      <td>1</td>\n",
       "      <td>5</td>\n",
       "      <td>152</td>\n",
       "      <td>False</td>\n",
       "      <td>True</td>\n",
       "      <td>False</td>\n",
       "      <td>False</td>\n",
       "      <td>False</td>\n",
       "      <td>False</td>\n",
       "      <td>1.559347e+09</td>\n",
       "    </tr>\n",
       "    <tr>\n",
       "      <th>1</th>\n",
       "      <td>T1188342</td>\n",
       "      <td>172</td>\n",
       "      <td>S1</td>\n",
       "      <td>L1</td>\n",
       "      <td>R1</td>\n",
       "      <td>0</td>\n",
       "      <td>No</td>\n",
       "      <td>2019</td>\n",
       "      <td>6</td>\n",
       "      <td>22</td>\n",
       "      <td>1</td>\n",
       "      <td>5</td>\n",
       "      <td>152</td>\n",
       "      <td>False</td>\n",
       "      <td>True</td>\n",
       "      <td>False</td>\n",
       "      <td>False</td>\n",
       "      <td>False</td>\n",
       "      <td>False</td>\n",
       "      <td>1.559347e+09</td>\n",
       "    </tr>\n",
       "    <tr>\n",
       "      <th>2</th>\n",
       "      <td>T1188343</td>\n",
       "      <td>173</td>\n",
       "      <td>S4</td>\n",
       "      <td>L2</td>\n",
       "      <td>R1</td>\n",
       "      <td>0</td>\n",
       "      <td>No</td>\n",
       "      <td>2019</td>\n",
       "      <td>6</td>\n",
       "      <td>22</td>\n",
       "      <td>1</td>\n",
       "      <td>5</td>\n",
       "      <td>152</td>\n",
       "      <td>False</td>\n",
       "      <td>True</td>\n",
       "      <td>False</td>\n",
       "      <td>False</td>\n",
       "      <td>False</td>\n",
       "      <td>False</td>\n",
       "      <td>1.559347e+09</td>\n",
       "    </tr>\n",
       "    <tr>\n",
       "      <th>3</th>\n",
       "      <td>T1188344</td>\n",
       "      <td>174</td>\n",
       "      <td>S1</td>\n",
       "      <td>L1</td>\n",
       "      <td>R4</td>\n",
       "      <td>0</td>\n",
       "      <td>No</td>\n",
       "      <td>2019</td>\n",
       "      <td>6</td>\n",
       "      <td>22</td>\n",
       "      <td>1</td>\n",
       "      <td>5</td>\n",
       "      <td>152</td>\n",
       "      <td>False</td>\n",
       "      <td>True</td>\n",
       "      <td>False</td>\n",
       "      <td>False</td>\n",
       "      <td>False</td>\n",
       "      <td>False</td>\n",
       "      <td>1.559347e+09</td>\n",
       "    </tr>\n",
       "    <tr>\n",
       "      <th>4</th>\n",
       "      <td>T1188345</td>\n",
       "      <td>170</td>\n",
       "      <td>S1</td>\n",
       "      <td>L1</td>\n",
       "      <td>R2</td>\n",
       "      <td>0</td>\n",
       "      <td>No</td>\n",
       "      <td>2019</td>\n",
       "      <td>6</td>\n",
       "      <td>22</td>\n",
       "      <td>1</td>\n",
       "      <td>5</td>\n",
       "      <td>152</td>\n",
       "      <td>False</td>\n",
       "      <td>True</td>\n",
       "      <td>False</td>\n",
       "      <td>False</td>\n",
       "      <td>False</td>\n",
       "      <td>False</td>\n",
       "      <td>1.559347e+09</td>\n",
       "    </tr>\n",
       "  </tbody>\n",
       "</table>\n",
       "</div>"
      ],
      "text/plain": [
       "         ID  Store_id Store_Type Location_Type Region_Code  Holiday Discount  \\\n",
       "0  T1188341       171         S4            L2          R3        0       No   \n",
       "1  T1188342       172         S1            L1          R1        0       No   \n",
       "2  T1188343       173         S4            L2          R1        0       No   \n",
       "3  T1188344       174         S1            L1          R4        0       No   \n",
       "4  T1188345       170         S1            L1          R2        0       No   \n",
       "\n",
       "   Year  Month  Week  Day  Dayofweek  Dayofyear  Is_month_end  Is_month_start  \\\n",
       "0  2019      6    22    1          5        152         False            True   \n",
       "1  2019      6    22    1          5        152         False            True   \n",
       "2  2019      6    22    1          5        152         False            True   \n",
       "3  2019      6    22    1          5        152         False            True   \n",
       "4  2019      6    22    1          5        152         False            True   \n",
       "\n",
       "   Is_quarter_end  Is_quarter_start  Is_year_end  Is_year_start       Elapsed  \n",
       "0           False             False        False          False  1.559347e+09  \n",
       "1           False             False        False          False  1.559347e+09  \n",
       "2           False             False        False          False  1.559347e+09  \n",
       "3           False             False        False          False  1.559347e+09  \n",
       "4           False             False        False          False  1.559347e+09  "
      ]
     },
     "execution_count": 53,
     "metadata": {},
     "output_type": "execute_result"
    }
   ],
   "source": [
    "df_test.head()"
   ]
  },
  {
   "cell_type": "code",
   "execution_count": 54,
   "id": "7d2ef0f5",
   "metadata": {},
   "outputs": [
    {
     "data": {
      "text/plain": [
       "(22265, 20)"
      ]
     },
     "execution_count": 54,
     "metadata": {},
     "output_type": "execute_result"
    }
   ],
   "source": [
    "df_test.shape"
   ]
  },
  {
   "cell_type": "code",
   "execution_count": 55,
   "id": "ee48375d",
   "metadata": {},
   "outputs": [],
   "source": [
    "df_test['Sales'] = 0"
   ]
  },
  {
   "cell_type": "code",
   "execution_count": 56,
   "id": "01aedc59",
   "metadata": {},
   "outputs": [
    {
     "data": {
      "text/plain": [
       "(22265, 21)"
      ]
     },
     "execution_count": 56,
     "metadata": {},
     "output_type": "execute_result"
    }
   ],
   "source": [
    "df_test.shape"
   ]
  },
  {
   "cell_type": "code",
   "execution_count": 57,
   "id": "c3ceda31",
   "metadata": {},
   "outputs": [],
   "source": [
    "to_test = TabularPandas(df_test, procs, cat, cont, y_names=dep_var)"
   ]
  },
  {
   "cell_type": "code",
   "execution_count": 58,
   "id": "ffd33e02",
   "metadata": {},
   "outputs": [],
   "source": [
    "test_xs_imp = to_test.xs[to_keep]"
   ]
  },
  {
   "cell_type": "code",
   "execution_count": 59,
   "id": "7a2de460",
   "metadata": {},
   "outputs": [],
   "source": [
    "test_xs_final = test_xs_imp.drop(to_drop, axis=1)"
   ]
  },
  {
   "cell_type": "code",
   "execution_count": 60,
   "id": "f16be6f4",
   "metadata": {},
   "outputs": [
    {
     "data": {
      "text/plain": [
       "(22265, 11)"
      ]
     },
     "execution_count": 60,
     "metadata": {},
     "output_type": "execute_result"
    }
   ],
   "source": [
    "test_xs_final.shape"
   ]
  },
  {
   "cell_type": "code",
   "execution_count": 61,
   "id": "da7548a6",
   "metadata": {},
   "outputs": [],
   "source": [
    "test_xs_time = test_xs_final.drop(time_vars, axis=1)"
   ]
  },
  {
   "cell_type": "code",
   "execution_count": 63,
   "id": "8701fe41",
   "metadata": {},
   "outputs": [
    {
     "data": {
      "text/plain": [
       "(22265, 9)"
      ]
     },
     "execution_count": 63,
     "metadata": {},
     "output_type": "execute_result"
    }
   ],
   "source": [
    "test_xs_time .shape"
   ]
  },
  {
   "cell_type": "code",
   "execution_count": 64,
   "id": "d4195d58",
   "metadata": {},
   "outputs": [],
   "source": [
    "df_rf_red = pd.DataFrame()"
   ]
  },
  {
   "cell_type": "code",
   "execution_count": 65,
   "id": "ef8694c9",
   "metadata": {},
   "outputs": [],
   "source": [
    "df_rf_red['ID'] = df_test['ID']\n",
    "df_rf_red['Sales'] = rf1.predict(test_xs_time)"
   ]
  },
  {
   "cell_type": "code",
   "execution_count": 66,
   "id": "5a69c61b",
   "metadata": {},
   "outputs": [
    {
     "data": {
      "text/html": [
       "<div>\n",
       "<style scoped>\n",
       "    .dataframe tbody tr th:only-of-type {\n",
       "        vertical-align: middle;\n",
       "    }\n",
       "\n",
       "    .dataframe tbody tr th {\n",
       "        vertical-align: top;\n",
       "    }\n",
       "\n",
       "    .dataframe thead th {\n",
       "        text-align: right;\n",
       "    }\n",
       "</style>\n",
       "<table border=\"1\" class=\"dataframe\">\n",
       "  <thead>\n",
       "    <tr style=\"text-align: right;\">\n",
       "      <th></th>\n",
       "      <th>ID</th>\n",
       "      <th>Sales</th>\n",
       "    </tr>\n",
       "  </thead>\n",
       "  <tbody>\n",
       "    <tr>\n",
       "      <th>0</th>\n",
       "      <td>T1188341</td>\n",
       "      <td>69223.252300</td>\n",
       "    </tr>\n",
       "    <tr>\n",
       "      <th>1</th>\n",
       "      <td>T1188342</td>\n",
       "      <td>45813.196296</td>\n",
       "    </tr>\n",
       "    <tr>\n",
       "      <th>2</th>\n",
       "      <td>T1188343</td>\n",
       "      <td>90449.531260</td>\n",
       "    </tr>\n",
       "    <tr>\n",
       "      <th>3</th>\n",
       "      <td>T1188344</td>\n",
       "      <td>49556.304318</td>\n",
       "    </tr>\n",
       "    <tr>\n",
       "      <th>4</th>\n",
       "      <td>T1188345</td>\n",
       "      <td>47915.670069</td>\n",
       "    </tr>\n",
       "  </tbody>\n",
       "</table>\n",
       "</div>"
      ],
      "text/plain": [
       "         ID         Sales\n",
       "0  T1188341  69223.252300\n",
       "1  T1188342  45813.196296\n",
       "2  T1188343  90449.531260\n",
       "3  T1188344  49556.304318\n",
       "4  T1188345  47915.670069"
      ]
     },
     "execution_count": 66,
     "metadata": {},
     "output_type": "execute_result"
    }
   ],
   "source": [
    "df_rf_red.head()"
   ]
  },
  {
   "cell_type": "code",
   "execution_count": 68,
   "id": "98f4bfa2",
   "metadata": {},
   "outputs": [],
   "source": [
    "header = [\"ID\", \"Sales\"]"
   ]
  },
  {
   "cell_type": "code",
   "execution_count": 69,
   "id": "ee2f4b30",
   "metadata": {},
   "outputs": [],
   "source": [
    "df_rf_red.to_csv('./rf_tree_red_final.csv', columns = header, index=False)"
   ]
  },
  {
   "cell_type": "code",
   "execution_count": 70,
   "id": "180d4220",
   "metadata": {},
   "outputs": [
    {
     "data": {
      "text/html": [
       "<div>\n",
       "<style scoped>\n",
       "    .dataframe tbody tr th:only-of-type {\n",
       "        vertical-align: middle;\n",
       "    }\n",
       "\n",
       "    .dataframe tbody tr th {\n",
       "        vertical-align: top;\n",
       "    }\n",
       "\n",
       "    .dataframe thead th {\n",
       "        text-align: right;\n",
       "    }\n",
       "</style>\n",
       "<table border=\"1\" class=\"dataframe\">\n",
       "  <thead>\n",
       "    <tr style=\"text-align: right;\">\n",
       "      <th></th>\n",
       "      <th>ID</th>\n",
       "      <th>Sales</th>\n",
       "    </tr>\n",
       "  </thead>\n",
       "  <tbody>\n",
       "    <tr>\n",
       "      <th>0</th>\n",
       "      <td>T1188341</td>\n",
       "      <td>69223.252300</td>\n",
       "    </tr>\n",
       "    <tr>\n",
       "      <th>1</th>\n",
       "      <td>T1188342</td>\n",
       "      <td>45813.196296</td>\n",
       "    </tr>\n",
       "    <tr>\n",
       "      <th>2</th>\n",
       "      <td>T1188343</td>\n",
       "      <td>90449.531260</td>\n",
       "    </tr>\n",
       "    <tr>\n",
       "      <th>3</th>\n",
       "      <td>T1188344</td>\n",
       "      <td>49556.304318</td>\n",
       "    </tr>\n",
       "    <tr>\n",
       "      <th>4</th>\n",
       "      <td>T1188345</td>\n",
       "      <td>47915.670069</td>\n",
       "    </tr>\n",
       "  </tbody>\n",
       "</table>\n",
       "</div>"
      ],
      "text/plain": [
       "         ID         Sales\n",
       "0  T1188341  69223.252300\n",
       "1  T1188342  45813.196296\n",
       "2  T1188343  90449.531260\n",
       "3  T1188344  49556.304318\n",
       "4  T1188345  47915.670069"
      ]
     },
     "execution_count": 70,
     "metadata": {},
     "output_type": "execute_result"
    }
   ],
   "source": [
    "pd.read_csv('./rf_tree_red_final.csv', low_memory=False).head()"
   ]
  },
  {
   "cell_type": "code",
   "execution_count": null,
   "id": "53b37800",
   "metadata": {},
   "outputs": [],
   "source": []
  }
 ],
 "metadata": {
  "kernelspec": {
   "display_name": "fastai",
   "language": "python",
   "name": "fastai"
  },
  "language_info": {
   "codemirror_mode": {
    "name": "ipython",
    "version": 3
   },
   "file_extension": ".py",
   "mimetype": "text/x-python",
   "name": "python",
   "nbconvert_exporter": "python",
   "pygments_lexer": "ipython3",
   "version": "3.7.11"
  }
 },
 "nbformat": 4,
 "nbformat_minor": 5
}
